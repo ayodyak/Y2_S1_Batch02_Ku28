{
  "cells": [
    {
      "cell_type": "code",
      "source": [
        "import os\n",
        "from pathlib import Path\n",
        "from PIL import Image\n",
        "\n",
        "# Path to your dataset\n",
        "DATA_DIR = \"/content/Y2_S1_Batch02_Ku28/data/raw/Dataset\"\n",
        "OUTPUT_DIR = \"/content/Y2_S1_Batch02_Ku28/data/processed/Dataset_224x224\"\n",
        "\n",
        "# Target size\n",
        "TARGET_SIZE = (224, 224)\n",
        "\n",
        "# Create output directory if not exists\n",
        "os.makedirs(OUTPUT_DIR, exist_ok=True)\n",
        "\n",
        "# Loop through each class folder\n",
        "for class_name in os.listdir(DATA_DIR):\n",
        "    class_path = os.path.join(DATA_DIR, class_name)\n",
        "    if not os.path.isdir(class_path):\n",
        "        continue\n",
        "\n",
        "    # Create corresponding class folder in output\n",
        "    output_class_path = os.path.join(OUTPUT_DIR, class_name)\n",
        "    os.makedirs(output_class_path, exist_ok=True)\n",
        "\n",
        "    # Loop through each image in the class folder\n",
        "    for img_name in os.listdir(class_path):\n",
        "        img_path = os.path.join(class_path, img_name)\n",
        "        if not os.path.isfile(img_path):\n",
        "            continue\n",
        "        try:\n",
        "            with Image.open(img_path) as img:\n",
        "                img = img.convert(\"RGB\")  # ensure RGB\n",
        "                img_resized = img.resize(TARGET_SIZE, Image.ANTIALIAS)\n",
        "                save_path = os.path.join(output_class_path, img_name)\n",
        "                img_resized.save(save_path)\n",
        "        except Exception as e:\n",
        "            print(f\"❌ Error processing {img_path}: {e}\")\n",
        "\n",
        "print(\"✅ Resizing complete. Resized dataset saved to:\", OUTPUT_DIR)\n"
      ],
      "metadata": {
        "id": "mYTg7830l-1Y"
      },
      "execution_count": null,
      "outputs": []
    }
  ],
  "metadata": {
    "accelerator": "GPU",
    "colab": {
      "gpuType": "T4",
      "provenance": []
    },
    "kernelspec": {
      "display_name": "Python 3",
      "name": "python3"
    },
    "language_info": {
      "name": "python"
    }
  },
  "nbformat": 4,
  "nbformat_minor": 0
}